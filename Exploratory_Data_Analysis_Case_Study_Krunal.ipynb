{
  "nbformat": 4,
  "nbformat_minor": 0,
  "metadata": {
    "colab": {
      "provenance": [],
      "collapsed_sections": [
        "WjXZSrvZzpda",
        "uF6QF2c4BFei",
        "icGdyoc5O3J2",
        "eiFbtGsrj8Xy",
        "41T_uRR8_bHV",
        "kMC6Q6IODLS6",
        "nZlODtvdzzLT",
        "_-is4m2fz5FJ"
      ],
      "include_colab_link": true
    },
    "kernelspec": {
      "name": "python3",
      "display_name": "Python 3"
    },
    "language_info": {
      "name": "python"
    }
  },
  "cells": [
    {
      "cell_type": "markdown",
      "metadata": {
        "id": "view-in-github",
        "colab_type": "text"
      },
      "source": [
        "<a href=\"https://colab.research.google.com/github/kdmstar/EDA-automobile/blob/main/Exploratory_Data_Analysis_Case_Study_Krunal.ipynb\" target=\"_parent\"><img src=\"https://colab.research.google.com/assets/colab-badge.svg\" alt=\"Open In Colab\"/></a>"
      ]
    },
    {
      "cell_type": "markdown",
      "metadata": {
        "id": "WjXZSrvZzpda"
      },
      "source": [
        "# **👨🏻‍🎓 Learning Objective 👨🏻‍🎓**"
      ]
    },
    {
      "cell_type": "markdown",
      "source": [
        "###**Introduction**"
      ],
      "metadata": {
        "id": "2Cc3XwD6NeIx"
      }
    },
    {
      "cell_type": "markdown",
      "source": [
        "📢**Attention Students**! 🎓\n",
        "\n",
        "🚗 Get ready to rev up your data analysis skills as we dive into an exciting case study on EDA of Automobile Dataset! 📊📈\n",
        "\n",
        "🔍 During the course of this case study, we'll be covering a wide range of topics including Data Exploration 🕵️‍♂️, Cleaning 🧹, Investigation 🔬 and forming inferences 💡 that'll help you gain a deeper understanding of this fascinating dataset. 🤓\n",
        "\n",
        "🏎️ So fasten your seatbelts and get ready for an exciting ride as we explore the world of data analysis together! 🚀"
      ],
      "metadata": {
        "id": "geecb-kFNgSu"
      }
    },
    {
      "cell_type": "markdown",
      "source": [
        "###**Primary Goals**"
      ],
      "metadata": {
        "id": "7XRytIt-N-Sv"
      }
    },
    {
      "cell_type": "markdown",
      "source": [
        "🎯 To develop an understanding of the process of exploratory data analysis (EDA) and its importance in data analysis.\n",
        "\n",
        "🎯 To learn how to explore and analyze a real-world dataset using Python programming language and its data analysis libraries such as Pandas, NumPy, and Matplotlib.\n",
        "\n",
        "🎯 To gain expertise in various EDA techniques including data cleaning, data preprocessing, feature engineering, data visualization, and statistical analysis.\n",
        "\n",
        "🎯 To be able to interpret and communicate insights and inferences derived from the data analysis, and use them to draw meaningful conclusions.\n",
        "\n",
        "🎯 To develop critical thinking and problem-solving skills required for data analysis in various domains such as business, finance, healthcare, and social sciences.\n",
        "\n",
        "🎯 To have a hands-on experience with the EDA process and gain confidence in working with real-world datasets.\n",
        "\n",
        "\n",
        "\n",
        "\n"
      ],
      "metadata": {
        "id": "VbGaONtbOCcw"
      }
    },
    {
      "cell_type": "markdown",
      "source": [
        "# **📖 Learning Material 📖**\n"
      ],
      "metadata": {
        "id": "wuF_AEvm5eqq"
      }
    },
    {
      "cell_type": "markdown",
      "source": [
        "##**Dataset Description:**"
      ],
      "metadata": {
        "id": "uF6QF2c4BFei"
      }
    },
    {
      "cell_type": "markdown",
      "source": [
        "**Here is the dataset that we will be using:**\n",
        "\n",
        " [Link](https://drive.google.com/file/d/13pCKXi7EAbXUWTwvi6xWYS9V2AfsCQHK/view?usp=sharing)\n",
        "\n"
      ],
      "metadata": {
        "id": "_UPVO-nBvEaG"
      }
    },
    {
      "cell_type": "markdown",
      "source": [
        "🚗 The automobile dataset contains information on various attributes of cars, such as their make, model, fuel type, engine displacement, horsepower, and price. The dataset includes a total of 205 instances, with 26 different attributes.\n",
        "\n",
        "\n",
        "📊Some of the features in the dataset include the car's symboling (an insurance risk rating) 🔢, normalized losses (average loss payment per insured vehicle year) 💰, make and model 🚗, fuel type ⛽️, aspiration type (standard or turbo) 🔥, number of doors 🚪, body style 👥, drive wheels (front, rear, or four-wheel drive) 🚙, engine location (front or rear) , engine type (diesel or gas) ⛽️, number of cylinders 🔢, engine size 🔧, fuel system ⛽️, bore (diameter of the engine cylinder) 📏, stroke (distance the piston moves in the cylinder) 📈, compression ratio 🔧, horsepower 🐴, peak rpm (engine revolutions per minute at which the engine produces the maximum power) 🔄, city and highway miles per gallon 🛣️, and price 💰.\n",
        "\n",
        "🤖 This dataset can be used for various machine learning tasks, such as regression (predicting the price of the car based on its features), classification (classifying the cars based on their body style, make, or other attributes), and clustering (finding groups of similar cars based on their features).\n",
        "\n",
        "🚀 It is a useful dataset for those interested in the automotive industry or for those interested in exploring machine learning techniques on a real-world dataset."
      ],
      "metadata": {
        "id": "7C6TbtICBI9M"
      }
    },
    {
      "cell_type": "markdown",
      "source": [
        "We start the Exploratory Data Analysis process by importing the required libraries."
      ],
      "metadata": {
        "id": "BdUipOrG5i5W"
      }
    },
    {
      "cell_type": "code",
      "execution_count": null,
      "metadata": {
        "id": "9Vo3YFDXvrNj"
      },
      "outputs": [],
      "source": [
        "import pandas as pd\n",
        "import numpy as np"
      ]
    },
    {
      "cell_type": "code",
      "source": [
        "#mounting your drive, so that you can access the files there\n",
        "#you'll receive a authentication prompt. Complete it.\n",
        "from google.colab import drive\n",
        "drive.mount('/content/drive')"
      ],
      "metadata": {
        "colab": {
          "base_uri": "https://localhost:8080/"
        },
        "id": "nii7lZEuxOPW",
        "outputId": "b36d177d-8efb-4fca-de63-1e851358b456"
      },
      "execution_count": null,
      "outputs": [
        {
          "output_type": "stream",
          "name": "stdout",
          "text": [
            "Drive already mounted at /content/drive; to attempt to forcibly remount, call drive.mount(\"/content/drive\", force_remount=True).\n"
          ]
        }
      ]
    },
    {
      "cell_type": "code",
      "source": [
        "filepath=\"/content/automobile_data.csv\"\n",
        "auto_df=pd.read_csv(filepath)"
      ],
      "metadata": {
        "id": "QAdGKcyFxOSw"
      },
      "execution_count": null,
      "outputs": []
    },
    {
      "cell_type": "markdown",
      "source": [
        "*auto_df is a Pandas dataframe object that contains the automobile dataset, and can be used to perform various operations on the data, such as filtering, sorting, grouping, and visualization.*"
      ],
      "metadata": {
        "id": "AF0__s4SBiIq"
      }
    },
    {
      "cell_type": "code",
      "source": [
        "auto_df"
      ],
      "metadata": {
        "colab": {
          "base_uri": "https://localhost:8080/",
          "height": 574
        },
        "id": "ssIQ6KzqxaJr",
        "outputId": "a7bf4374-f591-4577-f915-7d27ae5d9c24"
      },
      "execution_count": null,
      "outputs": [
        {
          "output_type": "execute_result",
          "data": {
            "text/plain": [
              "     symboling normalized-losses         make fuel-type aspiration  \\\n",
              "0            3                 ?  alfa-romero       gas        std   \n",
              "1            3                 ?  alfa-romero       gas        std   \n",
              "2            1                 ?  alfa-romero       gas        std   \n",
              "3            2               164         audi       gas        std   \n",
              "4            2               164         audi       gas        std   \n",
              "..         ...               ...          ...       ...        ...   \n",
              "200         -1                95        volvo       gas        std   \n",
              "201         -1                95        volvo       gas      turbo   \n",
              "202         -1                95        volvo       gas        std   \n",
              "203         -1                95        volvo    diesel      turbo   \n",
              "204         -1                95        volvo       gas      turbo   \n",
              "\n",
              "    num-of-doors   body-style drive-wheels engine-location  wheel-base  ...  \\\n",
              "0            two  convertible          rwd           front        88.6  ...   \n",
              "1            two  convertible          rwd           front        88.6  ...   \n",
              "2            two    hatchback          rwd           front        94.5  ...   \n",
              "3           four        sedan          fwd           front        99.8  ...   \n",
              "4           four        sedan          4wd           front        99.4  ...   \n",
              "..           ...          ...          ...             ...         ...  ...   \n",
              "200         four        sedan          rwd           front       109.1  ...   \n",
              "201         four        sedan          rwd           front       109.1  ...   \n",
              "202         four        sedan          rwd           front       109.1  ...   \n",
              "203         four        sedan          rwd           front       109.1  ...   \n",
              "204         four        sedan          rwd           front       109.1  ...   \n",
              "\n",
              "     engine-size  fuel-system  bore  stroke compression-ratio horsepower  \\\n",
              "0            130         mpfi  3.47    2.68               9.0        111   \n",
              "1            130         mpfi  3.47    2.68               9.0        111   \n",
              "2            152         mpfi  2.68    3.47               9.0        154   \n",
              "3            109         mpfi  3.19     3.4              10.0        102   \n",
              "4            136         mpfi  3.19     3.4               8.0        115   \n",
              "..           ...          ...   ...     ...               ...        ...   \n",
              "200          141         mpfi  3.78    3.15               9.5        114   \n",
              "201          141         mpfi  3.78    3.15               8.7        160   \n",
              "202          173         mpfi  3.58    2.87               8.8        134   \n",
              "203          145          idi  3.01     3.4              23.0        106   \n",
              "204          141         mpfi  3.78    3.15               9.5        114   \n",
              "\n",
              "     peak-rpm city-mpg highway-mpg  price  \n",
              "0        5000       21          27  13495  \n",
              "1        5000       21          27  16500  \n",
              "2        5000       19          26  16500  \n",
              "3        5500       24          30  13950  \n",
              "4        5500       18          22  17450  \n",
              "..        ...      ...         ...    ...  \n",
              "200      5400       23          28  16845  \n",
              "201      5300       19          25  19045  \n",
              "202      5500       18          23  21485  \n",
              "203      4800       26          27  22470  \n",
              "204      5400       19          25  22625  \n",
              "\n",
              "[205 rows x 26 columns]"
            ],
            "text/html": [
              "\n",
              "  <div id=\"df-26633f26-cba9-4b97-b760-baab06c1b6d9\">\n",
              "    <div class=\"colab-df-container\">\n",
              "      <div>\n",
              "<style scoped>\n",
              "    .dataframe tbody tr th:only-of-type {\n",
              "        vertical-align: middle;\n",
              "    }\n",
              "\n",
              "    .dataframe tbody tr th {\n",
              "        vertical-align: top;\n",
              "    }\n",
              "\n",
              "    .dataframe thead th {\n",
              "        text-align: right;\n",
              "    }\n",
              "</style>\n",
              "<table border=\"1\" class=\"dataframe\">\n",
              "  <thead>\n",
              "    <tr style=\"text-align: right;\">\n",
              "      <th></th>\n",
              "      <th>symboling</th>\n",
              "      <th>normalized-losses</th>\n",
              "      <th>make</th>\n",
              "      <th>fuel-type</th>\n",
              "      <th>aspiration</th>\n",
              "      <th>num-of-doors</th>\n",
              "      <th>body-style</th>\n",
              "      <th>drive-wheels</th>\n",
              "      <th>engine-location</th>\n",
              "      <th>wheel-base</th>\n",
              "      <th>...</th>\n",
              "      <th>engine-size</th>\n",
              "      <th>fuel-system</th>\n",
              "      <th>bore</th>\n",
              "      <th>stroke</th>\n",
              "      <th>compression-ratio</th>\n",
              "      <th>horsepower</th>\n",
              "      <th>peak-rpm</th>\n",
              "      <th>city-mpg</th>\n",
              "      <th>highway-mpg</th>\n",
              "      <th>price</th>\n",
              "    </tr>\n",
              "  </thead>\n",
              "  <tbody>\n",
              "    <tr>\n",
              "      <th>0</th>\n",
              "      <td>3</td>\n",
              "      <td>?</td>\n",
              "      <td>alfa-romero</td>\n",
              "      <td>gas</td>\n",
              "      <td>std</td>\n",
              "      <td>two</td>\n",
              "      <td>convertible</td>\n",
              "      <td>rwd</td>\n",
              "      <td>front</td>\n",
              "      <td>88.6</td>\n",
              "      <td>...</td>\n",
              "      <td>130</td>\n",
              "      <td>mpfi</td>\n",
              "      <td>3.47</td>\n",
              "      <td>2.68</td>\n",
              "      <td>9.0</td>\n",
              "      <td>111</td>\n",
              "      <td>5000</td>\n",
              "      <td>21</td>\n",
              "      <td>27</td>\n",
              "      <td>13495</td>\n",
              "    </tr>\n",
              "    <tr>\n",
              "      <th>1</th>\n",
              "      <td>3</td>\n",
              "      <td>?</td>\n",
              "      <td>alfa-romero</td>\n",
              "      <td>gas</td>\n",
              "      <td>std</td>\n",
              "      <td>two</td>\n",
              "      <td>convertible</td>\n",
              "      <td>rwd</td>\n",
              "      <td>front</td>\n",
              "      <td>88.6</td>\n",
              "      <td>...</td>\n",
              "      <td>130</td>\n",
              "      <td>mpfi</td>\n",
              "      <td>3.47</td>\n",
              "      <td>2.68</td>\n",
              "      <td>9.0</td>\n",
              "      <td>111</td>\n",
              "      <td>5000</td>\n",
              "      <td>21</td>\n",
              "      <td>27</td>\n",
              "      <td>16500</td>\n",
              "    </tr>\n",
              "    <tr>\n",
              "      <th>2</th>\n",
              "      <td>1</td>\n",
              "      <td>?</td>\n",
              "      <td>alfa-romero</td>\n",
              "      <td>gas</td>\n",
              "      <td>std</td>\n",
              "      <td>two</td>\n",
              "      <td>hatchback</td>\n",
              "      <td>rwd</td>\n",
              "      <td>front</td>\n",
              "      <td>94.5</td>\n",
              "      <td>...</td>\n",
              "      <td>152</td>\n",
              "      <td>mpfi</td>\n",
              "      <td>2.68</td>\n",
              "      <td>3.47</td>\n",
              "      <td>9.0</td>\n",
              "      <td>154</td>\n",
              "      <td>5000</td>\n",
              "      <td>19</td>\n",
              "      <td>26</td>\n",
              "      <td>16500</td>\n",
              "    </tr>\n",
              "    <tr>\n",
              "      <th>3</th>\n",
              "      <td>2</td>\n",
              "      <td>164</td>\n",
              "      <td>audi</td>\n",
              "      <td>gas</td>\n",
              "      <td>std</td>\n",
              "      <td>four</td>\n",
              "      <td>sedan</td>\n",
              "      <td>fwd</td>\n",
              "      <td>front</td>\n",
              "      <td>99.8</td>\n",
              "      <td>...</td>\n",
              "      <td>109</td>\n",
              "      <td>mpfi</td>\n",
              "      <td>3.19</td>\n",
              "      <td>3.4</td>\n",
              "      <td>10.0</td>\n",
              "      <td>102</td>\n",
              "      <td>5500</td>\n",
              "      <td>24</td>\n",
              "      <td>30</td>\n",
              "      <td>13950</td>\n",
              "    </tr>\n",
              "    <tr>\n",
              "      <th>4</th>\n",
              "      <td>2</td>\n",
              "      <td>164</td>\n",
              "      <td>audi</td>\n",
              "      <td>gas</td>\n",
              "      <td>std</td>\n",
              "      <td>four</td>\n",
              "      <td>sedan</td>\n",
              "      <td>4wd</td>\n",
              "      <td>front</td>\n",
              "      <td>99.4</td>\n",
              "      <td>...</td>\n",
              "      <td>136</td>\n",
              "      <td>mpfi</td>\n",
              "      <td>3.19</td>\n",
              "      <td>3.4</td>\n",
              "      <td>8.0</td>\n",
              "      <td>115</td>\n",
              "      <td>5500</td>\n",
              "      <td>18</td>\n",
              "      <td>22</td>\n",
              "      <td>17450</td>\n",
              "    </tr>\n",
              "    <tr>\n",
              "      <th>...</th>\n",
              "      <td>...</td>\n",
              "      <td>...</td>\n",
              "      <td>...</td>\n",
              "      <td>...</td>\n",
              "      <td>...</td>\n",
              "      <td>...</td>\n",
              "      <td>...</td>\n",
              "      <td>...</td>\n",
              "      <td>...</td>\n",
              "      <td>...</td>\n",
              "      <td>...</td>\n",
              "      <td>...</td>\n",
              "      <td>...</td>\n",
              "      <td>...</td>\n",
              "      <td>...</td>\n",
              "      <td>...</td>\n",
              "      <td>...</td>\n",
              "      <td>...</td>\n",
              "      <td>...</td>\n",
              "      <td>...</td>\n",
              "      <td>...</td>\n",
              "    </tr>\n",
              "    <tr>\n",
              "      <th>200</th>\n",
              "      <td>-1</td>\n",
              "      <td>95</td>\n",
              "      <td>volvo</td>\n",
              "      <td>gas</td>\n",
              "      <td>std</td>\n",
              "      <td>four</td>\n",
              "      <td>sedan</td>\n",
              "      <td>rwd</td>\n",
              "      <td>front</td>\n",
              "      <td>109.1</td>\n",
              "      <td>...</td>\n",
              "      <td>141</td>\n",
              "      <td>mpfi</td>\n",
              "      <td>3.78</td>\n",
              "      <td>3.15</td>\n",
              "      <td>9.5</td>\n",
              "      <td>114</td>\n",
              "      <td>5400</td>\n",
              "      <td>23</td>\n",
              "      <td>28</td>\n",
              "      <td>16845</td>\n",
              "    </tr>\n",
              "    <tr>\n",
              "      <th>201</th>\n",
              "      <td>-1</td>\n",
              "      <td>95</td>\n",
              "      <td>volvo</td>\n",
              "      <td>gas</td>\n",
              "      <td>turbo</td>\n",
              "      <td>four</td>\n",
              "      <td>sedan</td>\n",
              "      <td>rwd</td>\n",
              "      <td>front</td>\n",
              "      <td>109.1</td>\n",
              "      <td>...</td>\n",
              "      <td>141</td>\n",
              "      <td>mpfi</td>\n",
              "      <td>3.78</td>\n",
              "      <td>3.15</td>\n",
              "      <td>8.7</td>\n",
              "      <td>160</td>\n",
              "      <td>5300</td>\n",
              "      <td>19</td>\n",
              "      <td>25</td>\n",
              "      <td>19045</td>\n",
              "    </tr>\n",
              "    <tr>\n",
              "      <th>202</th>\n",
              "      <td>-1</td>\n",
              "      <td>95</td>\n",
              "      <td>volvo</td>\n",
              "      <td>gas</td>\n",
              "      <td>std</td>\n",
              "      <td>four</td>\n",
              "      <td>sedan</td>\n",
              "      <td>rwd</td>\n",
              "      <td>front</td>\n",
              "      <td>109.1</td>\n",
              "      <td>...</td>\n",
              "      <td>173</td>\n",
              "      <td>mpfi</td>\n",
              "      <td>3.58</td>\n",
              "      <td>2.87</td>\n",
              "      <td>8.8</td>\n",
              "      <td>134</td>\n",
              "      <td>5500</td>\n",
              "      <td>18</td>\n",
              "      <td>23</td>\n",
              "      <td>21485</td>\n",
              "    </tr>\n",
              "    <tr>\n",
              "      <th>203</th>\n",
              "      <td>-1</td>\n",
              "      <td>95</td>\n",
              "      <td>volvo</td>\n",
              "      <td>diesel</td>\n",
              "      <td>turbo</td>\n",
              "      <td>four</td>\n",
              "      <td>sedan</td>\n",
              "      <td>rwd</td>\n",
              "      <td>front</td>\n",
              "      <td>109.1</td>\n",
              "      <td>...</td>\n",
              "      <td>145</td>\n",
              "      <td>idi</td>\n",
              "      <td>3.01</td>\n",
              "      <td>3.4</td>\n",
              "      <td>23.0</td>\n",
              "      <td>106</td>\n",
              "      <td>4800</td>\n",
              "      <td>26</td>\n",
              "      <td>27</td>\n",
              "      <td>22470</td>\n",
              "    </tr>\n",
              "    <tr>\n",
              "      <th>204</th>\n",
              "      <td>-1</td>\n",
              "      <td>95</td>\n",
              "      <td>volvo</td>\n",
              "      <td>gas</td>\n",
              "      <td>turbo</td>\n",
              "      <td>four</td>\n",
              "      <td>sedan</td>\n",
              "      <td>rwd</td>\n",
              "      <td>front</td>\n",
              "      <td>109.1</td>\n",
              "      <td>...</td>\n",
              "      <td>141</td>\n",
              "      <td>mpfi</td>\n",
              "      <td>3.78</td>\n",
              "      <td>3.15</td>\n",
              "      <td>9.5</td>\n",
              "      <td>114</td>\n",
              "      <td>5400</td>\n",
              "      <td>19</td>\n",
              "      <td>25</td>\n",
              "      <td>22625</td>\n",
              "    </tr>\n",
              "  </tbody>\n",
              "</table>\n",
              "<p>205 rows × 26 columns</p>\n",
              "</div>\n",
              "      <button class=\"colab-df-convert\" onclick=\"convertToInteractive('df-26633f26-cba9-4b97-b760-baab06c1b6d9')\"\n",
              "              title=\"Convert this dataframe to an interactive table.\"\n",
              "              style=\"display:none;\">\n",
              "        \n",
              "  <svg xmlns=\"http://www.w3.org/2000/svg\" height=\"24px\"viewBox=\"0 0 24 24\"\n",
              "       width=\"24px\">\n",
              "    <path d=\"M0 0h24v24H0V0z\" fill=\"none\"/>\n",
              "    <path d=\"M18.56 5.44l.94 2.06.94-2.06 2.06-.94-2.06-.94-.94-2.06-.94 2.06-2.06.94zm-11 1L8.5 8.5l.94-2.06 2.06-.94-2.06-.94L8.5 2.5l-.94 2.06-2.06.94zm10 10l.94 2.06.94-2.06 2.06-.94-2.06-.94-.94-2.06-.94 2.06-2.06.94z\"/><path d=\"M17.41 7.96l-1.37-1.37c-.4-.4-.92-.59-1.43-.59-.52 0-1.04.2-1.43.59L10.3 9.45l-7.72 7.72c-.78.78-.78 2.05 0 2.83L4 21.41c.39.39.9.59 1.41.59.51 0 1.02-.2 1.41-.59l7.78-7.78 2.81-2.81c.8-.78.8-2.07 0-2.86zM5.41 20L4 18.59l7.72-7.72 1.47 1.35L5.41 20z\"/>\n",
              "  </svg>\n",
              "      </button>\n",
              "      \n",
              "  <style>\n",
              "    .colab-df-container {\n",
              "      display:flex;\n",
              "      flex-wrap:wrap;\n",
              "      gap: 12px;\n",
              "    }\n",
              "\n",
              "    .colab-df-convert {\n",
              "      background-color: #E8F0FE;\n",
              "      border: none;\n",
              "      border-radius: 50%;\n",
              "      cursor: pointer;\n",
              "      display: none;\n",
              "      fill: #1967D2;\n",
              "      height: 32px;\n",
              "      padding: 0 0 0 0;\n",
              "      width: 32px;\n",
              "    }\n",
              "\n",
              "    .colab-df-convert:hover {\n",
              "      background-color: #E2EBFA;\n",
              "      box-shadow: 0px 1px 2px rgba(60, 64, 67, 0.3), 0px 1px 3px 1px rgba(60, 64, 67, 0.15);\n",
              "      fill: #174EA6;\n",
              "    }\n",
              "\n",
              "    [theme=dark] .colab-df-convert {\n",
              "      background-color: #3B4455;\n",
              "      fill: #D2E3FC;\n",
              "    }\n",
              "\n",
              "    [theme=dark] .colab-df-convert:hover {\n",
              "      background-color: #434B5C;\n",
              "      box-shadow: 0px 1px 3px 1px rgba(0, 0, 0, 0.15);\n",
              "      filter: drop-shadow(0px 1px 2px rgba(0, 0, 0, 0.3));\n",
              "      fill: #FFFFFF;\n",
              "    }\n",
              "  </style>\n",
              "\n",
              "      <script>\n",
              "        const buttonEl =\n",
              "          document.querySelector('#df-26633f26-cba9-4b97-b760-baab06c1b6d9 button.colab-df-convert');\n",
              "        buttonEl.style.display =\n",
              "          google.colab.kernel.accessAllowed ? 'block' : 'none';\n",
              "\n",
              "        async function convertToInteractive(key) {\n",
              "          const element = document.querySelector('#df-26633f26-cba9-4b97-b760-baab06c1b6d9');\n",
              "          const dataTable =\n",
              "            await google.colab.kernel.invokeFunction('convertToInteractive',\n",
              "                                                     [key], {});\n",
              "          if (!dataTable) return;\n",
              "\n",
              "          const docLinkHtml = 'Like what you see? Visit the ' +\n",
              "            '<a target=\"_blank\" href=https://colab.research.google.com/notebooks/data_table.ipynb>data table notebook</a>'\n",
              "            + ' to learn more about interactive tables.';\n",
              "          element.innerHTML = '';\n",
              "          dataTable['output_type'] = 'display_data';\n",
              "          await google.colab.output.renderOutput(dataTable, element);\n",
              "          const docLink = document.createElement('div');\n",
              "          docLink.innerHTML = docLinkHtml;\n",
              "          element.appendChild(docLink);\n",
              "        }\n",
              "      </script>\n",
              "    </div>\n",
              "  </div>\n",
              "  "
            ]
          },
          "metadata": {},
          "execution_count": 70
        }
      ]
    },
    {
      "cell_type": "markdown",
      "source": [
        "📋 To get a list of all the column names in the automobile dataset, you can use the command **auto_df.columns**. This would provide you with the names of all the columns in the dataset and enable you to carry out various data manipulation and analysis operations."
      ],
      "metadata": {
        "id": "yBGzgiaJ8E9K"
      }
    },
    {
      "cell_type": "code",
      "source": [
        "auto_df.columns"
      ],
      "metadata": {
        "colab": {
          "base_uri": "https://localhost:8080/"
        },
        "id": "7EWd0h1Exyly",
        "outputId": "bfd3ee1f-8da1-4c45-8b70-68e4f51661ef"
      },
      "execution_count": null,
      "outputs": [
        {
          "output_type": "execute_result",
          "data": {
            "text/plain": [
              "Index(['symboling', 'normalized-losses', 'make', 'fuel-type', 'aspiration',\n",
              "       'num-of-doors', 'body-style', 'drive-wheels', 'engine-location',\n",
              "       'wheel-base', 'length', 'width', 'height', 'curb-weight', 'engine-type',\n",
              "       'num-of-cylinders', 'engine-size', 'fuel-system', 'bore', 'stroke',\n",
              "       'compression-ratio', 'horsepower', 'peak-rpm', 'city-mpg',\n",
              "       'highway-mpg', 'price'],\n",
              "      dtype='object')"
            ]
          },
          "metadata": {},
          "execution_count": 71
        }
      ]
    },
    {
      "cell_type": "markdown",
      "source": [
        "Here is information on what these columns represent."
      ],
      "metadata": {
        "id": "xiRfujmqw0-j"
      }
    },
    {
      "cell_type": "markdown",
      "source": [
        "1. **symboling:** -3, -2, -1, 0, 1, 2, 3\n",
        "\n",
        "2. **normalized-losses:** continuous from 65 to 256\n",
        "\n",
        "3. **make:** alfa-romero, audi, bmw, chevrolet, dodge, honda, isuzu, jaguar, mazda, mercedes-benz, mercury, mitsubishi, nissan, peugot, plymouth, porsche, renault, saab, subaru, toyota, volkswagen, volvo\n",
        "\n",
        "4. **fuel-type:** diesel, gas\n",
        "\n",
        "5. **aspiration:** std, turbo\n",
        "\n",
        "6. **num-of-doors:** four, two\n",
        "\n",
        "7. **body-style:** hardtop, wagon, sedan, hatchback, convertible\n",
        "\n",
        "8. **drive-wheels:** 4wd, fwd, rwd\n",
        "\n",
        "9. **engine-location:** front, rear\n",
        "\n",
        "10. **wheel-base:** continuous from 86.6 to 120.9\n",
        "\n",
        "11. **length:** continuous from 141.1 to 208.1\n",
        "\n",
        "12. **width:** continuous from 60.3 to 72.3\n",
        "\n",
        "13. **height:** continuous from 47.8 to 59.8\n",
        "\n",
        "14. **curb-weight:** continuous from 1488 to 4066\n",
        "\n",
        "15. **engine-type:** dohc, dohcv, l, ohc, ohcf, ohcv, rotor\n",
        "\n",
        "16. **num-of-cylinders:** eight, five, four, six, three, twelve, two\n",
        "\n",
        "17. **engine-size:** continuous from 61 to 326\n",
        "\n",
        "18. **fuel-system:** 1bbl, 2bbl, 4bbl, idi, mfi, mpfi, spdi, spfi\n",
        "\n",
        "19. **bore:** continuous from 2.54 to 3.94\n",
        "\n",
        "20. **stroke:** continuous from 2.07 to 4.17\n",
        "\n",
        "21. **compression-ratio:** continuous from 7 to 23\n",
        "\n",
        "22. **orsepower:** continuous from 48 to 288\n",
        "\n",
        "23. **peak-rpm:** continuous from 4150 to 6600\n",
        "\n",
        "24. **city-mpg:** continuous from 13 to 49\n",
        "\n",
        "25. **highway-mpg:** continuous from 16 to 54\n",
        "\n",
        "26. **price:** continuous from 5118 to 45400"
      ],
      "metadata": {
        "id": "gIXUSyH0PXTy"
      }
    },
    {
      "cell_type": "markdown",
      "source": [
        "##**Dataset Cleaning** 🧹"
      ],
      "metadata": {
        "id": "icGdyoc5O3J2"
      }
    },
    {
      "cell_type": "markdown",
      "source": [
        "**Handling Missing Values**\n",
        "\n",
        "---\n",
        "\n"
      ],
      "metadata": {
        "id": "s6oiLpNUyQ5D"
      }
    },
    {
      "cell_type": "markdown",
      "source": [
        "When data is missing from a dataset, it may be represented by other values such as '**?**' question marks, '**-**' dashes or blank spaces.\n",
        "\n",
        "These values can create problems during data analysis as they cannot be recognized as missing data by most software packages and can interfere with calculations and statistics.\n",
        "\n",
        "By converting these values to NaN (Not a Number), we can standardize the representation of missing data and make it easier to handle and process during data analysis. NaN values are recognized by most software packages as missing data and can be easily removed, imputed or handled in other ways during data analysis.\n",
        "NaN stands for \"Not a Number\". It is a special floating-point value in Python that represents an undefined or unrepresentable value. In the context of datasets, NaN values typically represent missing or undefined values."
      ],
      "metadata": {
        "id": "lfvV-1StyBYg"
      }
    },
    {
      "cell_type": "code",
      "source": [
        "#  Handle missing values\n",
        "auto_df.replace('?', np.nan, inplace=True)  # replace '?' with NaN\n"
      ],
      "metadata": {
        "id": "Mc2sfvNa57uH"
      },
      "execution_count": null,
      "outputs": []
    },
    {
      "cell_type": "markdown",
      "source": [
        "\n",
        "1. The **auto_df.replace('?', np.nan, inplace=True**) command is a data cleaning operation that replaces all occurrences of the string \"?\" in the auto_df dataframe object with the special value NaN (not a number). This operation is useful because many datasets, including the automobile dataset from the UCI Machine Learning Repository, may have missing values represented by a certain string or character, such as **\"?\"**, **\"NA\"**, or **\"NaN\"**.\n"
      ],
      "metadata": {
        "id": "LTY0f4NX5dxo"
      }
    },
    {
      "cell_type": "code",
      "source": [
        "# drop rows with missing values in the price column\n",
        "auto_df.dropna(subset=['price'], axis=0, inplace=True)\n"
      ],
      "metadata": {
        "id": "ZAbCxJ2c6Zl_"
      },
      "execution_count": null,
      "outputs": []
    },
    {
      "cell_type": "markdown",
      "source": [
        "2. The **auto_df.dropna(subset=['price'], axis=0, inplace=True)** command is a data cleaning operation that removes rows with missing values in the \"price\" column from the auto_df dataframe object. This operation is useful because missing values can cause errors in machine learning algorithms, and removing rows with missing values can improve the quality of the data used for analysis."
      ],
      "metadata": {
        "id": "6GuXwUSvCjMJ"
      }
    },
    {
      "cell_type": "code",
      "source": [
        "# replace missing values in normalized-losses column with mean value\n",
        "auto_df['normalized-losses'].fillna(auto_df['normalized-losses'].astype(float).mean(), inplace=True)"
      ],
      "metadata": {
        "id": "yUZ2zgU967co"
      },
      "execution_count": null,
      "outputs": []
    },
    {
      "cell_type": "markdown",
      "source": [
        "3. The code will fill the missing values in the **\"normalized-losses\"** column of the **auto_df** dataframe object with the mean value of the non-missing values in that column. This operation is useful because missing values can cause errors in machine learning algorithms, and filling in missing values with a reasonable estimate can improve the quality of the data used for analysis."
      ],
      "metadata": {
        "id": "HFkx3T-GC5Hf"
      }
    },
    {
      "cell_type": "markdown",
      "source": [
        "###**Strategies to Impute NaN/NA values.**"
      ],
      "metadata": {
        "id": "k0RW4mUmyBI8"
      }
    },
    {
      "cell_type": "markdown",
      "source": [
        "1. 🤔 Understand the reason for the NaN values: Before replacing or imputing NaN values, it is important to understand why they are present in the data.\n",
        "\n",
        "1. 🤓 Choose an appropriate replacement strategy: There are several strategies to replace or impute NaN values, such as mean imputation, mode imputation, and regression imputation.\n",
        "\n",
        "1. 🧐 Evaluate the impact of replacement: It is important to evaluate the impact of replacement or imputation on the overall data quality.\n",
        "\n",
        "1. ⚠️ Consider the potential consequences: Replacing or imputing NaN values can have consequences on downstream analyses, so it is important to consider the potential consequences of the replacement strategy on subsequent analyses and results.\n",
        "\n",
        "1. 📝 Document the process: It is important to document the process of replacing or imputing NaN values, including the strategy used and the rationale behind it.\n",
        "\n",
        "\n",
        "\n",
        "\n"
      ],
      "metadata": {
        "id": "4yldoL30ymxd"
      }
    },
    {
      "cell_type": "code",
      "source": [
        "auto_df.dtypes"
      ],
      "metadata": {
        "id": "nEh8ktsNzd27",
        "colab": {
          "base_uri": "https://localhost:8080/"
        },
        "outputId": "df923049-3e0f-4f43-9209-2572f5e8069f"
      },
      "execution_count": null,
      "outputs": [
        {
          "output_type": "execute_result",
          "data": {
            "text/plain": [
              "symboling              int64\n",
              "normalized-losses     object\n",
              "make                  object\n",
              "fuel-type             object\n",
              "aspiration            object\n",
              "num-of-doors          object\n",
              "body-style            object\n",
              "drive-wheels          object\n",
              "engine-location       object\n",
              "wheel-base           float64\n",
              "length               float64\n",
              "width                float64\n",
              "height               float64\n",
              "curb-weight            int64\n",
              "engine-type           object\n",
              "num-of-cylinders      object\n",
              "engine-size            int64\n",
              "fuel-system           object\n",
              "bore                  object\n",
              "stroke                object\n",
              "compression-ratio    float64\n",
              "horsepower            object\n",
              "peak-rpm              object\n",
              "city-mpg               int64\n",
              "highway-mpg            int64\n",
              "price                 object\n",
              "dtype: object"
            ]
          },
          "metadata": {},
          "execution_count": 75
        }
      ]
    },
    {
      "cell_type": "code",
      "source": [
        "# Convert data types from object to float\n",
        "auto_df[['normalized-losses', 'bore', 'stroke', 'horsepower', 'peak-rpm', 'price']] = auto_df[['normalized-losses', 'bore', 'stroke', 'horsepower', 'peak-rpm', 'price']].astype(float)"
      ],
      "metadata": {
        "id": "WkIfZi1i86lK"
      },
      "execution_count": null,
      "outputs": []
    },
    {
      "cell_type": "markdown",
      "source": [
        "4. This code will convert the  selected columns of the **auto_df** dataframe object from their original data type to the float data type. This operation is useful because it ensures that the data is in a consistent format and can be used for machine learning or other data science tasks that require numerical data."
      ],
      "metadata": {
        "id": "Hzz_2Wz-DJJx"
      }
    },
    {
      "cell_type": "code",
      "source": [
        "auto_df.dtypes"
      ],
      "metadata": {
        "colab": {
          "base_uri": "https://localhost:8080/"
        },
        "id": "_3n2N7dV9FWu",
        "outputId": "589740a2-6eb3-43d3-83ca-1e93f2fbffe4"
      },
      "execution_count": null,
      "outputs": [
        {
          "output_type": "execute_result",
          "data": {
            "text/plain": [
              "symboling              int64\n",
              "normalized-losses    float64\n",
              "make                  object\n",
              "fuel-type             object\n",
              "aspiration            object\n",
              "num-of-doors          object\n",
              "body-style            object\n",
              "drive-wheels          object\n",
              "engine-location       object\n",
              "wheel-base           float64\n",
              "length               float64\n",
              "width                float64\n",
              "height               float64\n",
              "curb-weight            int64\n",
              "engine-type           object\n",
              "num-of-cylinders      object\n",
              "engine-size            int64\n",
              "fuel-system           object\n",
              "bore                 float64\n",
              "stroke               float64\n",
              "compression-ratio    float64\n",
              "horsepower           float64\n",
              "peak-rpm             float64\n",
              "city-mpg               int64\n",
              "highway-mpg            int64\n",
              "price                float64\n",
              "dtype: object"
            ]
          },
          "metadata": {},
          "execution_count": 77
        }
      ]
    },
    {
      "cell_type": "markdown",
      "source": [
        "5. The **auto_df.drop_duplicates(inplace=True)** command is a data cleaning operation that removes duplicate rows from the auto_df dataframe object. This operation is useful because duplicate rows can cause errors or bias in machine learning algorithms or other data science tasks."
      ],
      "metadata": {
        "id": "lb6eOmxW_PKJ"
      }
    },
    {
      "cell_type": "markdown",
      "source": [
        "**REMOVING DUPLICATES**\n",
        "\n",
        "---\n",
        "\n",
        "The process of identifying and removing or handling instances where the same observation appears multiple times in a dataset. Duplicates can occur due to errors in data collection, data entry, or data merging, and can lead to biased or incorrect analyses if not properly addressed."
      ],
      "metadata": {
        "id": "w7ONr2a60BFR"
      }
    },
    {
      "cell_type": "code",
      "source": [
        "# Check for duplicates\n",
        "auto_df.drop_duplicates(inplace=True)"
      ],
      "metadata": {
        "id": "JYmhD2j_9l9w"
      },
      "execution_count": null,
      "outputs": []
    },
    {
      "cell_type": "code",
      "source": [
        "auto_df"
      ],
      "metadata": {
        "id": "RSQelfVB98Sa",
        "colab": {
          "base_uri": "https://localhost:8080/",
          "height": 574
        },
        "outputId": "801231c9-b2c3-4a13-e10f-27641e906bdf"
      },
      "execution_count": null,
      "outputs": [
        {
          "output_type": "execute_result",
          "data": {
            "text/plain": [
              "     symboling  normalized-losses         make fuel-type aspiration  \\\n",
              "0            3              122.0  alfa-romero       gas        std   \n",
              "1            3              122.0  alfa-romero       gas        std   \n",
              "2            1              122.0  alfa-romero       gas        std   \n",
              "3            2              164.0         audi       gas        std   \n",
              "4            2              164.0         audi       gas        std   \n",
              "..         ...                ...          ...       ...        ...   \n",
              "200         -1               95.0        volvo       gas        std   \n",
              "201         -1               95.0        volvo       gas      turbo   \n",
              "202         -1               95.0        volvo       gas        std   \n",
              "203         -1               95.0        volvo    diesel      turbo   \n",
              "204         -1               95.0        volvo       gas      turbo   \n",
              "\n",
              "    num-of-doors   body-style drive-wheels engine-location  wheel-base  ...  \\\n",
              "0            two  convertible          rwd           front        88.6  ...   \n",
              "1            two  convertible          rwd           front        88.6  ...   \n",
              "2            two    hatchback          rwd           front        94.5  ...   \n",
              "3           four        sedan          fwd           front        99.8  ...   \n",
              "4           four        sedan          4wd           front        99.4  ...   \n",
              "..           ...          ...          ...             ...         ...  ...   \n",
              "200         four        sedan          rwd           front       109.1  ...   \n",
              "201         four        sedan          rwd           front       109.1  ...   \n",
              "202         four        sedan          rwd           front       109.1  ...   \n",
              "203         four        sedan          rwd           front       109.1  ...   \n",
              "204         four        sedan          rwd           front       109.1  ...   \n",
              "\n",
              "     engine-size  fuel-system  bore  stroke compression-ratio horsepower  \\\n",
              "0            130         mpfi  3.47    2.68               9.0      111.0   \n",
              "1            130         mpfi  3.47    2.68               9.0      111.0   \n",
              "2            152         mpfi  2.68    3.47               9.0      154.0   \n",
              "3            109         mpfi  3.19    3.40              10.0      102.0   \n",
              "4            136         mpfi  3.19    3.40               8.0      115.0   \n",
              "..           ...          ...   ...     ...               ...        ...   \n",
              "200          141         mpfi  3.78    3.15               9.5      114.0   \n",
              "201          141         mpfi  3.78    3.15               8.7      160.0   \n",
              "202          173         mpfi  3.58    2.87               8.8      134.0   \n",
              "203          145          idi  3.01    3.40              23.0      106.0   \n",
              "204          141         mpfi  3.78    3.15               9.5      114.0   \n",
              "\n",
              "     peak-rpm city-mpg  highway-mpg    price  \n",
              "0      5000.0       21           27  13495.0  \n",
              "1      5000.0       21           27  16500.0  \n",
              "2      5000.0       19           26  16500.0  \n",
              "3      5500.0       24           30  13950.0  \n",
              "4      5500.0       18           22  17450.0  \n",
              "..        ...      ...          ...      ...  \n",
              "200    5400.0       23           28  16845.0  \n",
              "201    5300.0       19           25  19045.0  \n",
              "202    5500.0       18           23  21485.0  \n",
              "203    4800.0       26           27  22470.0  \n",
              "204    5400.0       19           25  22625.0  \n",
              "\n",
              "[201 rows x 26 columns]"
            ],
            "text/html": [
              "\n",
              "  <div id=\"df-380721fd-f599-487c-bcc4-830ceb326956\">\n",
              "    <div class=\"colab-df-container\">\n",
              "      <div>\n",
              "<style scoped>\n",
              "    .dataframe tbody tr th:only-of-type {\n",
              "        vertical-align: middle;\n",
              "    }\n",
              "\n",
              "    .dataframe tbody tr th {\n",
              "        vertical-align: top;\n",
              "    }\n",
              "\n",
              "    .dataframe thead th {\n",
              "        text-align: right;\n",
              "    }\n",
              "</style>\n",
              "<table border=\"1\" class=\"dataframe\">\n",
              "  <thead>\n",
              "    <tr style=\"text-align: right;\">\n",
              "      <th></th>\n",
              "      <th>symboling</th>\n",
              "      <th>normalized-losses</th>\n",
              "      <th>make</th>\n",
              "      <th>fuel-type</th>\n",
              "      <th>aspiration</th>\n",
              "      <th>num-of-doors</th>\n",
              "      <th>body-style</th>\n",
              "      <th>drive-wheels</th>\n",
              "      <th>engine-location</th>\n",
              "      <th>wheel-base</th>\n",
              "      <th>...</th>\n",
              "      <th>engine-size</th>\n",
              "      <th>fuel-system</th>\n",
              "      <th>bore</th>\n",
              "      <th>stroke</th>\n",
              "      <th>compression-ratio</th>\n",
              "      <th>horsepower</th>\n",
              "      <th>peak-rpm</th>\n",
              "      <th>city-mpg</th>\n",
              "      <th>highway-mpg</th>\n",
              "      <th>price</th>\n",
              "    </tr>\n",
              "  </thead>\n",
              "  <tbody>\n",
              "    <tr>\n",
              "      <th>0</th>\n",
              "      <td>3</td>\n",
              "      <td>122.0</td>\n",
              "      <td>alfa-romero</td>\n",
              "      <td>gas</td>\n",
              "      <td>std</td>\n",
              "      <td>two</td>\n",
              "      <td>convertible</td>\n",
              "      <td>rwd</td>\n",
              "      <td>front</td>\n",
              "      <td>88.6</td>\n",
              "      <td>...</td>\n",
              "      <td>130</td>\n",
              "      <td>mpfi</td>\n",
              "      <td>3.47</td>\n",
              "      <td>2.68</td>\n",
              "      <td>9.0</td>\n",
              "      <td>111.0</td>\n",
              "      <td>5000.0</td>\n",
              "      <td>21</td>\n",
              "      <td>27</td>\n",
              "      <td>13495.0</td>\n",
              "    </tr>\n",
              "    <tr>\n",
              "      <th>1</th>\n",
              "      <td>3</td>\n",
              "      <td>122.0</td>\n",
              "      <td>alfa-romero</td>\n",
              "      <td>gas</td>\n",
              "      <td>std</td>\n",
              "      <td>two</td>\n",
              "      <td>convertible</td>\n",
              "      <td>rwd</td>\n",
              "      <td>front</td>\n",
              "      <td>88.6</td>\n",
              "      <td>...</td>\n",
              "      <td>130</td>\n",
              "      <td>mpfi</td>\n",
              "      <td>3.47</td>\n",
              "      <td>2.68</td>\n",
              "      <td>9.0</td>\n",
              "      <td>111.0</td>\n",
              "      <td>5000.0</td>\n",
              "      <td>21</td>\n",
              "      <td>27</td>\n",
              "      <td>16500.0</td>\n",
              "    </tr>\n",
              "    <tr>\n",
              "      <th>2</th>\n",
              "      <td>1</td>\n",
              "      <td>122.0</td>\n",
              "      <td>alfa-romero</td>\n",
              "      <td>gas</td>\n",
              "      <td>std</td>\n",
              "      <td>two</td>\n",
              "      <td>hatchback</td>\n",
              "      <td>rwd</td>\n",
              "      <td>front</td>\n",
              "      <td>94.5</td>\n",
              "      <td>...</td>\n",
              "      <td>152</td>\n",
              "      <td>mpfi</td>\n",
              "      <td>2.68</td>\n",
              "      <td>3.47</td>\n",
              "      <td>9.0</td>\n",
              "      <td>154.0</td>\n",
              "      <td>5000.0</td>\n",
              "      <td>19</td>\n",
              "      <td>26</td>\n",
              "      <td>16500.0</td>\n",
              "    </tr>\n",
              "    <tr>\n",
              "      <th>3</th>\n",
              "      <td>2</td>\n",
              "      <td>164.0</td>\n",
              "      <td>audi</td>\n",
              "      <td>gas</td>\n",
              "      <td>std</td>\n",
              "      <td>four</td>\n",
              "      <td>sedan</td>\n",
              "      <td>fwd</td>\n",
              "      <td>front</td>\n",
              "      <td>99.8</td>\n",
              "      <td>...</td>\n",
              "      <td>109</td>\n",
              "      <td>mpfi</td>\n",
              "      <td>3.19</td>\n",
              "      <td>3.40</td>\n",
              "      <td>10.0</td>\n",
              "      <td>102.0</td>\n",
              "      <td>5500.0</td>\n",
              "      <td>24</td>\n",
              "      <td>30</td>\n",
              "      <td>13950.0</td>\n",
              "    </tr>\n",
              "    <tr>\n",
              "      <th>4</th>\n",
              "      <td>2</td>\n",
              "      <td>164.0</td>\n",
              "      <td>audi</td>\n",
              "      <td>gas</td>\n",
              "      <td>std</td>\n",
              "      <td>four</td>\n",
              "      <td>sedan</td>\n",
              "      <td>4wd</td>\n",
              "      <td>front</td>\n",
              "      <td>99.4</td>\n",
              "      <td>...</td>\n",
              "      <td>136</td>\n",
              "      <td>mpfi</td>\n",
              "      <td>3.19</td>\n",
              "      <td>3.40</td>\n",
              "      <td>8.0</td>\n",
              "      <td>115.0</td>\n",
              "      <td>5500.0</td>\n",
              "      <td>18</td>\n",
              "      <td>22</td>\n",
              "      <td>17450.0</td>\n",
              "    </tr>\n",
              "    <tr>\n",
              "      <th>...</th>\n",
              "      <td>...</td>\n",
              "      <td>...</td>\n",
              "      <td>...</td>\n",
              "      <td>...</td>\n",
              "      <td>...</td>\n",
              "      <td>...</td>\n",
              "      <td>...</td>\n",
              "      <td>...</td>\n",
              "      <td>...</td>\n",
              "      <td>...</td>\n",
              "      <td>...</td>\n",
              "      <td>...</td>\n",
              "      <td>...</td>\n",
              "      <td>...</td>\n",
              "      <td>...</td>\n",
              "      <td>...</td>\n",
              "      <td>...</td>\n",
              "      <td>...</td>\n",
              "      <td>...</td>\n",
              "      <td>...</td>\n",
              "      <td>...</td>\n",
              "    </tr>\n",
              "    <tr>\n",
              "      <th>200</th>\n",
              "      <td>-1</td>\n",
              "      <td>95.0</td>\n",
              "      <td>volvo</td>\n",
              "      <td>gas</td>\n",
              "      <td>std</td>\n",
              "      <td>four</td>\n",
              "      <td>sedan</td>\n",
              "      <td>rwd</td>\n",
              "      <td>front</td>\n",
              "      <td>109.1</td>\n",
              "      <td>...</td>\n",
              "      <td>141</td>\n",
              "      <td>mpfi</td>\n",
              "      <td>3.78</td>\n",
              "      <td>3.15</td>\n",
              "      <td>9.5</td>\n",
              "      <td>114.0</td>\n",
              "      <td>5400.0</td>\n",
              "      <td>23</td>\n",
              "      <td>28</td>\n",
              "      <td>16845.0</td>\n",
              "    </tr>\n",
              "    <tr>\n",
              "      <th>201</th>\n",
              "      <td>-1</td>\n",
              "      <td>95.0</td>\n",
              "      <td>volvo</td>\n",
              "      <td>gas</td>\n",
              "      <td>turbo</td>\n",
              "      <td>four</td>\n",
              "      <td>sedan</td>\n",
              "      <td>rwd</td>\n",
              "      <td>front</td>\n",
              "      <td>109.1</td>\n",
              "      <td>...</td>\n",
              "      <td>141</td>\n",
              "      <td>mpfi</td>\n",
              "      <td>3.78</td>\n",
              "      <td>3.15</td>\n",
              "      <td>8.7</td>\n",
              "      <td>160.0</td>\n",
              "      <td>5300.0</td>\n",
              "      <td>19</td>\n",
              "      <td>25</td>\n",
              "      <td>19045.0</td>\n",
              "    </tr>\n",
              "    <tr>\n",
              "      <th>202</th>\n",
              "      <td>-1</td>\n",
              "      <td>95.0</td>\n",
              "      <td>volvo</td>\n",
              "      <td>gas</td>\n",
              "      <td>std</td>\n",
              "      <td>four</td>\n",
              "      <td>sedan</td>\n",
              "      <td>rwd</td>\n",
              "      <td>front</td>\n",
              "      <td>109.1</td>\n",
              "      <td>...</td>\n",
              "      <td>173</td>\n",
              "      <td>mpfi</td>\n",
              "      <td>3.58</td>\n",
              "      <td>2.87</td>\n",
              "      <td>8.8</td>\n",
              "      <td>134.0</td>\n",
              "      <td>5500.0</td>\n",
              "      <td>18</td>\n",
              "      <td>23</td>\n",
              "      <td>21485.0</td>\n",
              "    </tr>\n",
              "    <tr>\n",
              "      <th>203</th>\n",
              "      <td>-1</td>\n",
              "      <td>95.0</td>\n",
              "      <td>volvo</td>\n",
              "      <td>diesel</td>\n",
              "      <td>turbo</td>\n",
              "      <td>four</td>\n",
              "      <td>sedan</td>\n",
              "      <td>rwd</td>\n",
              "      <td>front</td>\n",
              "      <td>109.1</td>\n",
              "      <td>...</td>\n",
              "      <td>145</td>\n",
              "      <td>idi</td>\n",
              "      <td>3.01</td>\n",
              "      <td>3.40</td>\n",
              "      <td>23.0</td>\n",
              "      <td>106.0</td>\n",
              "      <td>4800.0</td>\n",
              "      <td>26</td>\n",
              "      <td>27</td>\n",
              "      <td>22470.0</td>\n",
              "    </tr>\n",
              "    <tr>\n",
              "      <th>204</th>\n",
              "      <td>-1</td>\n",
              "      <td>95.0</td>\n",
              "      <td>volvo</td>\n",
              "      <td>gas</td>\n",
              "      <td>turbo</td>\n",
              "      <td>four</td>\n",
              "      <td>sedan</td>\n",
              "      <td>rwd</td>\n",
              "      <td>front</td>\n",
              "      <td>109.1</td>\n",
              "      <td>...</td>\n",
              "      <td>141</td>\n",
              "      <td>mpfi</td>\n",
              "      <td>3.78</td>\n",
              "      <td>3.15</td>\n",
              "      <td>9.5</td>\n",
              "      <td>114.0</td>\n",
              "      <td>5400.0</td>\n",
              "      <td>19</td>\n",
              "      <td>25</td>\n",
              "      <td>22625.0</td>\n",
              "    </tr>\n",
              "  </tbody>\n",
              "</table>\n",
              "<p>201 rows × 26 columns</p>\n",
              "</div>\n",
              "      <button class=\"colab-df-convert\" onclick=\"convertToInteractive('df-380721fd-f599-487c-bcc4-830ceb326956')\"\n",
              "              title=\"Convert this dataframe to an interactive table.\"\n",
              "              style=\"display:none;\">\n",
              "        \n",
              "  <svg xmlns=\"http://www.w3.org/2000/svg\" height=\"24px\"viewBox=\"0 0 24 24\"\n",
              "       width=\"24px\">\n",
              "    <path d=\"M0 0h24v24H0V0z\" fill=\"none\"/>\n",
              "    <path d=\"M18.56 5.44l.94 2.06.94-2.06 2.06-.94-2.06-.94-.94-2.06-.94 2.06-2.06.94zm-11 1L8.5 8.5l.94-2.06 2.06-.94-2.06-.94L8.5 2.5l-.94 2.06-2.06.94zm10 10l.94 2.06.94-2.06 2.06-.94-2.06-.94-.94-2.06-.94 2.06-2.06.94z\"/><path d=\"M17.41 7.96l-1.37-1.37c-.4-.4-.92-.59-1.43-.59-.52 0-1.04.2-1.43.59L10.3 9.45l-7.72 7.72c-.78.78-.78 2.05 0 2.83L4 21.41c.39.39.9.59 1.41.59.51 0 1.02-.2 1.41-.59l7.78-7.78 2.81-2.81c.8-.78.8-2.07 0-2.86zM5.41 20L4 18.59l7.72-7.72 1.47 1.35L5.41 20z\"/>\n",
              "  </svg>\n",
              "      </button>\n",
              "      \n",
              "  <style>\n",
              "    .colab-df-container {\n",
              "      display:flex;\n",
              "      flex-wrap:wrap;\n",
              "      gap: 12px;\n",
              "    }\n",
              "\n",
              "    .colab-df-convert {\n",
              "      background-color: #E8F0FE;\n",
              "      border: none;\n",
              "      border-radius: 50%;\n",
              "      cursor: pointer;\n",
              "      display: none;\n",
              "      fill: #1967D2;\n",
              "      height: 32px;\n",
              "      padding: 0 0 0 0;\n",
              "      width: 32px;\n",
              "    }\n",
              "\n",
              "    .colab-df-convert:hover {\n",
              "      background-color: #E2EBFA;\n",
              "      box-shadow: 0px 1px 2px rgba(60, 64, 67, 0.3), 0px 1px 3px 1px rgba(60, 64, 67, 0.15);\n",
              "      fill: #174EA6;\n",
              "    }\n",
              "\n",
              "    [theme=dark] .colab-df-convert {\n",
              "      background-color: #3B4455;\n",
              "      fill: #D2E3FC;\n",
              "    }\n",
              "\n",
              "    [theme=dark] .colab-df-convert:hover {\n",
              "      background-color: #434B5C;\n",
              "      box-shadow: 0px 1px 3px 1px rgba(0, 0, 0, 0.15);\n",
              "      filter: drop-shadow(0px 1px 2px rgba(0, 0, 0, 0.3));\n",
              "      fill: #FFFFFF;\n",
              "    }\n",
              "  </style>\n",
              "\n",
              "      <script>\n",
              "        const buttonEl =\n",
              "          document.querySelector('#df-380721fd-f599-487c-bcc4-830ceb326956 button.colab-df-convert');\n",
              "        buttonEl.style.display =\n",
              "          google.colab.kernel.accessAllowed ? 'block' : 'none';\n",
              "\n",
              "        async function convertToInteractive(key) {\n",
              "          const element = document.querySelector('#df-380721fd-f599-487c-bcc4-830ceb326956');\n",
              "          const dataTable =\n",
              "            await google.colab.kernel.invokeFunction('convertToInteractive',\n",
              "                                                     [key], {});\n",
              "          if (!dataTable) return;\n",
              "\n",
              "          const docLinkHtml = 'Like what you see? Visit the ' +\n",
              "            '<a target=\"_blank\" href=https://colab.research.google.com/notebooks/data_table.ipynb>data table notebook</a>'\n",
              "            + ' to learn more about interactive tables.';\n",
              "          element.innerHTML = '';\n",
              "          dataTable['output_type'] = 'display_data';\n",
              "          await google.colab.output.renderOutput(dataTable, element);\n",
              "          const docLink = document.createElement('div');\n",
              "          docLink.innerHTML = docLinkHtml;\n",
              "          element.appendChild(docLink);\n",
              "        }\n",
              "      </script>\n",
              "    </div>\n",
              "  </div>\n",
              "  "
            ]
          },
          "metadata": {},
          "execution_count": 79
        }
      ]
    },
    {
      "cell_type": "markdown",
      "source": [
        "**OUTLIERS:**\n",
        "\n",
        "---\n",
        "\n",
        "Outliers are like those weirdos who always stand out in a crowd. 🤪\n",
        "\n",
        " They are data points that are significantly different from other points in the dataset, and they can really mess up your analysis if you don't handle them properly. 🤯\n",
        "\n",
        "Just like how a person can be an outlier in a group for being too tall or too short, data points can be outliers for having values that are too high or too low compared to the rest of the data. 📈📉"
      ],
      "metadata": {
        "id": "86H1zr_jzOsA"
      }
    },
    {
      "cell_type": "markdown",
      "source": [
        "**Let's deal with these outliers using IQR Method**"
      ],
      "metadata": {
        "id": "ovToJ8cs0Lb9"
      }
    },
    {
      "cell_type": "code",
      "source": [
        "import pandas as pd\n",
        "import seaborn as sns\n",
        "import matplotlib.pyplot as plt\n",
        "\n",
        "# Create a box plot of the price feature\n",
        "sns.boxplot(x=\"price\", data=auto_df)\n",
        "\n",
        "# Display the plot\n",
        "plt.show()\n"
      ],
      "metadata": {
        "colab": {
          "base_uri": "https://localhost:8080/",
          "height": 449
        },
        "id": "potYFR5bzIH7",
        "outputId": "042c8ddd-d21a-409d-e3c0-bb8ec5fff4a6"
      },
      "execution_count": null,
      "outputs": [
        {
          "output_type": "display_data",
          "data": {
            "text/plain": [
              "<Figure size 640x480 with 1 Axes>"
            ],
            "image/png": "[encoded data removed]"
          },
          "metadata": {}
        }
      ]
    },
    {
      "cell_type": "markdown",
      "source": [
        "The outliers are points you see on either sides of the whiskers."
      ],
      "metadata": {
        "id": "WCohWVPD0Neg"
      }
    },
    {
      "cell_type": "code",
      "source": [
        "# Dealing with outliers\n",
        "auto_df = auto_df[(auto_df['price'] >= auto_df['price'].quantile(0.05)) &\n",
        "        (auto_df['price'] <= auto_df['price'].quantile(0.95))]"
      ],
      "metadata": {
        "id": "s29jGDC3jaQ_"
      },
      "execution_count": null,
      "outputs": []
    },
    {
      "cell_type": "markdown",
      "source": [
        "🤖 This code deals with outliers in the price column of the auto_df dataset.\n",
        "\n",
        "The auto_df dataframe is filtered to remove observations whose price is below the 5th percentile or above the 95th percentile of all price values in the dataset. This means that values that are considered as extreme or unusual are removed from the dataset.\n"
      ],
      "metadata": {
        "id": "CJdJvbGizybf"
      }
    },
    {
      "cell_type": "markdown",
      "source": [
        "###**Strategies to Deal With Outliers**"
      ],
      "metadata": {
        "id": "DjXMj7H40c7v"
      }
    },
    {
      "cell_type": "markdown",
      "source": [
        "1. 🤔 Understand the data and the problem: Before you start dealing with outliers, it is important to have a good understanding of the data and the problem you are trying to solve. This will help you determine if outliers are actually problematic and if so, what is the best approach to deal with them.\n",
        "\n",
        "1. 🔍 Identify the outliers: There are several techniques to identify outliers, such as 📊 box plots, 📈 scatter plots, and 🧮 statistical tests. Once you have identified the outliers, you can decide on the best approach to deal with them.\n",
        "\n",
        "1. 🔬 Investigate the outliers: It is important to investigate the outliers to determine if they are valid or if they are due to data entry errors or measurement errors. If the outliers are valid, they may contain valuable information and should be treated differently from invalid outliers.\n",
        "\n",
        "1. 🤝 Decide on the approach: There are several approaches to deal with outliers, such as 🗑️ removing them, 🔢 transforming the data, or using 📈 robust statistical methods. The approach you choose will depend on the specific problem and the nature of the outliers.\n",
        "\n",
        "1. 📝 Document the process: It is important to document the process of dealing with outliers, including the approach used and the rationale behind it. This will help others understand the decisions you made and the impact of those decisions on the analysis.\n",
        "\n",
        "\n",
        "\n",
        "**You will learn more about the mathematic aspects of these things soon in your math modules.**\n",
        "\n",
        "\n",
        "\n",
        "\n"
      ],
      "metadata": {
        "id": "pWRwZYs10itD"
      }
    },
    {
      "cell_type": "markdown",
      "source": [
        "Let's look at the data types of features in hand."
      ],
      "metadata": {
        "id": "yCO-rIIF1A5n"
      }
    },
    {
      "cell_type": "code",
      "source": [
        "auto_df.info()"
      ],
      "metadata": {
        "id": "sSSnTVjb03xq",
        "outputId": "66ffec24-5c74-4b59-ada8-e01e65f8b5fb",
        "colab": {
          "base_uri": "https://localhost:8080/"
        }
      },
      "execution_count": null,
      "outputs": [
        {
          "output_type": "stream",
          "name": "stdout",
          "text": [
            "<class 'pandas.core.frame.DataFrame'>\n",
            "Int64Index: 181 entries, 0 to 204\n",
            "Data columns (total 26 columns):\n",
            " #   Column             Non-Null Count  Dtype  \n",
            "---  ------             --------------  -----  \n",
            " 0   symboling          181 non-null    int64  \n",
            " 1   normalized-losses  181 non-null    float64\n",
            " 2   make               181 non-null    object \n",
            " 3   fuel-type          181 non-null    object \n",
            " 4   aspiration         181 non-null    object \n",
            " 5   num-of-doors       179 non-null    object \n",
            " 6   body-style         181 non-null    object \n",
            " 7   drive-wheels       181 non-null    object \n",
            " 8   engine-location    181 non-null    object \n",
            " 9   wheel-base         181 non-null    float64\n",
            " 10  length             181 non-null    float64\n",
            " 11  width              181 non-null    float64\n",
            " 12  height             181 non-null    float64\n",
            " 13  curb-weight        181 non-null    float64\n",
            " 14  engine-type        181 non-null    object \n",
            " 15  num-of-cylinders   181 non-null    object \n",
            " 16  engine-size        181 non-null    float64\n",
            " 17  fuel-system        181 non-null    object \n",
            " 18  bore               177 non-null    float64\n",
            " 19  stroke             177 non-null    float64\n",
            " 20  compression-ratio  181 non-null    float64\n",
            " 21  horsepower         179 non-null    float64\n",
            " 22  peak-rpm           179 non-null    float64\n",
            " 23  city-mpg           181 non-null    float64\n",
            " 24  highway-mpg        181 non-null    float64\n",
            " 25  price              181 non-null    float64\n",
            "dtypes: float64(15), int64(1), object(10)\n",
            "memory usage: 42.2+ KB\n"
          ]
        }
      ]
    },
    {
      "cell_type": "markdown",
      "source": [
        "## **Revisiting Basic Visualizations:**"
      ],
      "metadata": {
        "id": "eiFbtGsrj8Xy"
      }
    },
    {
      "cell_type": "markdown",
      "source": [
        "The **plt.hist()** function generates a histogram by taking in an array of values and dividing them into a specified number of bins (in this case, 20 bins) based on the range of the data. The resulting histogram shows the distribution of the data, with the x-axis representing the range of prices and the y-axis representing the frequency of prices falling into each bin."
      ],
      "metadata": {
        "id": "cPW5HCCGA0bR"
      }
    },
    {
      "cell_type": "code",
      "source": [
        "\n",
        "# Histogram of prices\n",
        "plt.hist(auto_df['price'], bins=20)\n",
        "plt.xlabel('Price')\n",
        "plt.ylabel('Frequency')\n",
        "plt.title('Distribution of Car Prices')\n",
        "plt.show()"
      ],
      "metadata": {
        "colab": {
          "base_uri": "https://localhost:8080/",
          "height": 472
        },
        "id": "X9vTWjXaqre5",
        "outputId": "fbb73d13-c3a9-4a4f-d798-065b5e677385"
      },
      "execution_count": null,
      "outputs": [
        {
          "output_type": "display_data",
          "data": {
            "text/plain": [
              "<Figure size 640x480 with 1 Axes>"
            ],
            "image/png": "[encoded data removed]"
          },
          "metadata": {}
        }
      ]
    },
    {
      "cell_type": "markdown",
      "source": [
        "The **plt.scatter()** function generates a scatter plot by taking in two arrays of data, one for each axis of the plot. In this example, the x-axis represents engine size and the y-axis represents horsepower. Each data point is plotted as a point on the graph, with the x and y values determining its position.\n",
        "\n"
      ],
      "metadata": {
        "id": "Uy0thA1rBLRA"
      }
    },
    {
      "cell_type": "code",
      "source": [
        "# Scatterplot of engine size vs. horsepower\n",
        "plt.scatter(auto_df['engine-size'], auto_df['horsepower'])\n",
        "plt.xlabel('Engine Size')\n",
        "plt.ylabel('Horsepower')\n",
        "plt.title('Engine Size vs. Horsepower')\n",
        "plt.show()"
      ],
      "metadata": {
        "colab": {
          "base_uri": "https://localhost:8080/",
          "height": 472
        },
        "id": "GQpvUEWC68rP",
        "outputId": "71670df6-c896-4e7f-b95d-c7020ca3d771"
      },
      "execution_count": null,
      "outputs": [
        {
          "output_type": "display_data",
          "data": {
            "text/plain": [
              "<Figure size 640x480 with 1 Axes>"
            ],
            "image/png": "[encoded data removed]"
          },
          "metadata": {}
        }
      ]
    },
    {
      "cell_type": "markdown",
      "source": [
        "The **sns.boxplot()** function generates a box plot by taking in a DataFrame (data) and specifying the variables to be plotted on the x-axis (x) and y-axis (y). In this example, the x-axis represents body-style and the y-axis represents price. The resulting plot shows the distribution of prices for each body style, with a box representing the interquartile range (IQR) of the data, whiskers extending to the most extreme data points within 1.5 times the IQR, and any data points outside this range plotted as individual points or outliers."
      ],
      "metadata": {
        "id": "8jVe01eUBq86"
      }
    },
    {
      "cell_type": "code",
      "source": [
        "# Boxplot of price vs. body-style:\n",
        "sns.boxplot(x='body-style', y='price', data=auto_df)"
      ],
      "metadata": {
        "colab": {
          "base_uri": "https://localhost:8080/",
          "height": 466
        },
        "id": "j2z1F06s7WdM",
        "outputId": "6211b354-c409-4332-a2d4-500b2461ba10"
      },
      "execution_count": null,
      "outputs": [
        {
          "output_type": "execute_result",
          "data": {
            "text/plain": [
              "<Axes: xlabel='body-style', ylabel='price'>"
            ]
          },
          "metadata": {},
          "execution_count": 94
        },
        {
          "output_type": "display_data",
          "data": {
            "text/plain": [
              "<Figure size 640x480 with 1 Axes>"
            ],
            "image/png": "[encoded data removed]"
          },
          "metadata": {}
        }
      ]
    },
    {
      "cell_type": "markdown",
      "source": [
        "The **sns.scatterplot()** function generates a scatter plot by taking in a DataFrame (data) and specifying the variables to be plotted on the x-axis (x) and y-axis (y). In this example, the x-axis represents horsepower and the y-axis represents price. The hue parameter is used to specify a categorical variable (fuel-type) to be used for coloring the data points. Each unique value of the fuel-type variable is assigned a different color, allowing for easy visual comparison of the data across different categories."
      ],
      "metadata": {
        "id": "hFYCJ7WlBu9b"
      }
    },
    {
      "cell_type": "code",
      "source": [
        "# Scatterplot of horsepower vs. price colored by fuel-type:\n",
        "\n",
        "sns.scatterplot(x='horsepower', y='price', hue='fuel-type', data=auto_df)\n"
      ],
      "metadata": {
        "colab": {
          "base_uri": "https://localhost:8080/",
          "height": 466
        },
        "id": "Rr5MfoaS7Wpb",
        "outputId": "79abe03f-7632-4dde-91aa-072b369cef59"
      },
      "execution_count": null,
      "outputs": [
        {
          "output_type": "execute_result",
          "data": {
            "text/plain": [
              "<Axes: xlabel='horsepower', ylabel='price'>"
            ]
          },
          "metadata": {},
          "execution_count": 95
        },
        {
          "output_type": "display_data",
          "data": {
            "text/plain": [
              "<Figure size 640x480 with 1 Axes>"
            ],
            "image/png": "[encoded data removed]"
          },
          "metadata": {}
        }
      ]
    },
    {
      "cell_type": "markdown",
      "source": [
        "The **sns.histplot()** function generates a histogram by taking in a DataFrame (data) and specifying the variable to be plotted on the x-axis (x). In this case, the x-axis represents city-mpg."
      ],
      "metadata": {
        "id": "74kjW3PjB5lZ"
      }
    },
    {
      "cell_type": "code",
      "source": [
        "# Histogram of city-mpg:\n",
        "\n",
        "sns.histplot(x='city-mpg', data=auto_df)"
      ],
      "metadata": {
        "colab": {
          "base_uri": "https://localhost:8080/",
          "height": 466
        },
        "id": "w9p0Gk037W0S",
        "outputId": "ef4c40b2-6024-4c6e-e113-e1c5fb71f6e6"
      },
      "execution_count": null,
      "outputs": [
        {
          "output_type": "execute_result",
          "data": {
            "text/plain": [
              "<Axes: xlabel='city-mpg', ylabel='Count'>"
            ]
          },
          "metadata": {},
          "execution_count": 97
        },
        {
          "output_type": "display_data",
          "data": {
            "text/plain": [
              "<Figure size 640x480 with 1 Axes>"
            ],
            "image/png": "[encoded data removed]"
          },
          "metadata": {}
        }
      ]
    },
    {
      "cell_type": "markdown",
      "source": [
        "**Conclusion**"
      ],
      "metadata": {
        "id": "M_yUYtlwB9Ov"
      }
    },
    {
      "cell_type": "markdown",
      "source": [
        "In conclusion, the exploratory data analysis (EDA) performed on the automobile dataset provided valuable insights into the characteristics of the dataset. 🚗📊\n",
        "\n",
        "The initial analysis included data cleaning, where missing values were replaced with appropriate values and irrelevant columns were dropped. The data was then explored using various data visualization techniques, such as histograms, scatter plots, and box plots. 🧹🔍📈\n",
        "\n",
        "The histograms showed that the price variable had a skewed distribution, with the majority of the car prices being below $20,000. The scatter plots showed that there was a positive correlation between engine-size and horsepower, and a negative correlation between city-mpg and highway-mpg. The box plots showed that the median price of cars with hardtop and convertible body styles was higher than that of other body styles. 📉📈📊\n",
        "\n",
        "Overall, the EDA provided valuable insights into the relationships between variables in the dataset, and helped to identify patterns and trends that could be further explored in subsequent analysis. It also highlighted areas that may require further investigation, such as outliers and missing values. The results of this EDA can be used to inform further analysis or decision-making in the context of the automobile industry. 💡🔎👨‍💼"
      ],
      "metadata": {
        "id": "8eAFakLaB_g1"
      }
    },
    {
      "cell_type": "markdown",
      "source": [
        "Data visualization is an important step in the exploratory data analysis (EDA) process, which involves visually exploring and understanding the structure, patterns, and relationships in a dataset. The process of data visualization typically involves creating various types of graphical representations, such as scatter plots, histograms, bar charts, and heat maps, to visualize different aspects of the data.\n",
        "\n",
        "Overall, data visualization is a powerful tool in the EDA process, allowing analysts to gain insights and understanding from complex datasets through graphical representations. Effective data visualization can help to communicate findings clearly and convincingly, leading to better decision-making and more impactful data science projects."
      ],
      "metadata": {
        "id": "mmsCtzZb_yNM"
      }
    },
    {
      "cell_type": "markdown",
      "source": [
        "##**Data Inspection and Visualization:**"
      ],
      "metadata": {
        "id": "41T_uRR8_bHV"
      }
    },
    {
      "cell_type": "markdown",
      "source": [
        "Questions you are about to analyze are just a few examples to get your thinking process started 🤔. Remember, there are many more possibilities out there waiting to be explored! 🚀 So don't be afraid to come up with your own investigative questions and let your curiosity guide you. Happy exploring! 🕵️‍♀️🕵️‍♂️"
      ],
      "metadata": {
        "id": "gn97CBm7CTeC"
      }
    },
    {
      "cell_type": "markdown",
      "source": [
        "**🔴PROMPT: Ask the students to come up with thier own investigative questions to solve. Ask them for ideas for analysis during the live class🔴**"
      ],
      "metadata": {
        "id": "qh2O1rjQyfe4"
      }
    },
    {
      "cell_type": "markdown",
      "source": [
        "## <b> 1. How does the fuel economy (city-mpg and highway-mpg) vary between different body styles and fuel types? Which body style and fuel type have the highest and lowest fuel economy?"
      ],
      "metadata": {
        "id": "lX-IpQH8gPB0"
      }
    },
    {
      "cell_type": "code",
      "source": [
        "#Your Code Here"
      ],
      "metadata": {
        "id": "3w9uc_tAcHOn"
      },
      "execution_count": null,
      "outputs": []
    },
    {
      "cell_type": "markdown",
      "source": [
        "##<b>2. Is there a correlation between engine size and horsepower? How does engine size and horsepower vary across different makes and models?\n",
        "\n"
      ],
      "metadata": {
        "id": "gjwGevZGiPEs"
      }
    },
    {
      "cell_type": "code",
      "source": [
        "#Your Code Here"
      ],
      "metadata": {
        "id": "isPuJ7NycNTr"
      },
      "execution_count": null,
      "outputs": []
    },
    {
      "cell_type": "markdown",
      "source": [
        "##<b>3. How does the length, width, and height of the car vary between different body styles and makes? Which make and body style has the largest and smallest dimensions?\n",
        "\n"
      ],
      "metadata": {
        "id": "EGDEd8zyipa6"
      }
    },
    {
      "cell_type": "code",
      "source": [
        "#Your Code Here"
      ],
      "metadata": {
        "id": "zevC-eaPcSXc"
      },
      "execution_count": null,
      "outputs": []
    },
    {
      "cell_type": "markdown",
      "source": [
        "##<b>4. How does the price of the car vary with respect to its drivetrain (4WD or 2WD)? Is there a difference in price between cars with 4WD and 2WD?\n"
      ],
      "metadata": {
        "id": "XOOXVahjjCy4"
      }
    },
    {
      "cell_type": "code",
      "source": [
        "#Your Code Here"
      ],
      "metadata": {
        "id": "t5qluoZTcVLr"
      },
      "execution_count": null,
      "outputs": []
    },
    {
      "cell_type": "markdown",
      "source": [
        "##<b>5. Is there a correlation between curb weight and fuel economy (city-mpg and highway-mpg)? How does curb weight vary across different body styles and makes?\n",
        "\n"
      ],
      "metadata": {
        "id": "9jG-8OJxk359"
      }
    },
    {
      "cell_type": "markdown",
      "source": [
        "Correlation is a statistical measure that describes the degree of association between two variables. It measures how strongly two variables are related and the direction of their relationship, whether positive or negative.\n",
        "\n",
        "In Python, we can use the pandas library to calculate correlation between variables. Here is an example code snippet\n",
        "\n",
        "\n",
        "\n",
        "```\n",
        "# calculate the correlation matrix of all features\n",
        "corr_matrix = data.corr()\n",
        "\n",
        "# calculate the correlation between two features\n",
        "feature1 = 'column_name_1'\n",
        "feature2 = 'column_name_2'\n",
        "corr = data[feature1].corr(data[feature2])\n",
        "\n",
        "#Multiple features\n",
        "features = ['column_name_1', 'column_name_2', 'column_name_3']\n",
        "corr_matrix = data[features].corr()\n",
        "```\n",
        "\n"
      ],
      "metadata": {
        "id": "j1Xo7xQj14IK"
      }
    },
    {
      "cell_type": "markdown",
      "source": [
        "To explore the correlation between curb weight and fuel economy (city-mpg and highway-mpg), we can use scatterplots and correlation coefficients.\n",
        "\n"
      ],
      "metadata": {
        "id": "J4hJOHd4lWGK"
      }
    },
    {
      "cell_type": "code",
      "source": [
        "#Your Code Here"
      ],
      "metadata": {
        "id": "M7PyfjdxcaV5"
      },
      "execution_count": null,
      "outputs": []
    },
    {
      "cell_type": "markdown",
      "source": [
        "##<b>Conclusion"
      ],
      "metadata": {
        "id": "kMC6Q6IODLS6"
      }
    },
    {
      "cell_type": "markdown",
      "source": [
        "Congratulations! 🎉🎉🎉\n",
        "You have completed the lesson on Exploratory Data Analysis (EDA) on the ICL Machine learning repository's automobile dataset. This case study has provided you with a solid foundation in EDA techniques, which will be helpful in your upcoming EDA project. By analyzing this dataset, you have gained a deeper understanding of the key features and patterns that can be extracted from data.\n",
        "\n",
        "As you move forward in your EDA project, keep in mind that this is just the beginning. There are many more datasets out there waiting to be explored, and countless questions waiting to be answered. With curiosity, creativity, and persistence, you can uncover insights and solutions that can make a real difference in the world.\n",
        "\n",
        "**List of general instructions for EDA:**\n",
        "\n",
        "1️⃣ Start with cleaning and preprocessing the data\n",
        "\n",
        "2️⃣ Identify the variables and their types\n",
        "\n",
        "3️⃣ Analyze the distribution of each variable\n",
        "\n",
        "4️⃣ Look for patterns and correlations among the variables\n",
        "\n",
        "5️⃣ Visualize the data using various graphs and plots\n",
        "\n",
        "6️⃣ Draw insights and conclusions based on the analysis\n",
        "\n",
        "7️⃣ Always be curious and ask more questions to explore the data further. 🤔"
      ],
      "metadata": {
        "id": "ENn2jC5wDP7H"
      }
    },
    {
      "cell_type": "markdown",
      "metadata": {
        "id": "nZlODtvdzzLT"
      },
      "source": [
        "# **✅ Summary ✅**"
      ]
    },
    {
      "cell_type": "markdown",
      "metadata": {
        "id": "MPF9tgRkz4MX"
      },
      "source": [
        "🎓 What did you learn?\n",
        "\n",
        "📚 You learned about the importance of exploratory data analysis (EDA) and its role in data analysis.\n",
        "\n",
        "📊 You learned how to explore and analyze a real-world dataset using Python programming language and its data analysis libraries such as Pandas, NumPy, and Matplotlib.\n",
        "\n",
        "🧹 You learned various EDA techniques including data cleaning, data preprocessing, feature engineering, data visualization, and statistical analysis.\n",
        "\n",
        "💡 You learned how to interpret and communicate insights and inferences derived from the data analysis, and use them to draw meaningful conclusions.\n",
        "\n",
        "🤔 Through this lesson, you developed critical thinking and problem-solving skills required for data analysis in various domains such as business, finance, healthcare, and social sciences.\n",
        "\n",
        "👨‍💻 You also had a hands-on experience with the EDA process and gained confidence in working with real-world datasets."
      ]
    },
    {
      "cell_type": "markdown",
      "metadata": {
        "id": "_-is4m2fz5FJ"
      },
      "source": [
        "# **➕ Additional Reading ➕**"
      ]
    },
    {
      "cell_type": "markdown",
      "metadata": {
        "id": "cFOvJi2gz-vZ"
      },
      "source": [
        "**Mnemonic**\n",
        "\n",
        "\n",
        "👩‍💻 Once upon a time, there were three friends - Tom, Jane, and Mark. They were all data enthusiasts and loved exploring new datasets. One day, they stumbled upon the 🚗 Automobile Dataset 📊, and decided to apply the concepts they learned in their EDA class to solve a set of tasks.\n",
        "\n",
        "🧹 Task 1 - Data Cleaning: As they explored the dataset, they realized that it had some missing values and outliers 🤔. They used their data cleaning skills to remove the null values and replace the outliers with suitable values. 🧐\n",
        "\n",
        "🔍 Task 2 - Data Exploration: Next, they used various data exploration techniques to gain insights into the dataset. They visualized the relationships between different variables using scatter plots, histograms, and heatmaps. 📈📊\n",
        "\n",
        "🔎 Task 3 - Investigation: They then conducted a detailed investigation of the dataset to uncover any patterns or correlations between different variables. They used statistical techniques like correlation analysis and hypothesis testing to validate their findings. 🕵️‍♀️📉\n",
        "\n",
        "💡 Task 4 - Forming Inferences: Finally, they used their critical thinking and problem-solving skills to draw meaningful conclusions from the data analysis. They identified the key factors that affect the price of a car, and recommended some strategies to improve the sales of cars. 🤓💰\n",
        "\n",
        "🎉 In the end, Tom, Jane, and Mark were thrilled with their analysis and couldn't wait to explore more datasets using the skills they learned in their EDA class. 🚀\n",
        "\n",
        "\n",
        "\n",
        "\n",
        "\n"
      ]
    },
    {
      "cell_type": "markdown",
      "source": [
        "**Best Practices/Tips**\n",
        "\n",
        "👩‍💻 Start with a clear problem statement or research question in mind. This will guide your analysis and help you focus on the relevant variables.\n",
        "\n",
        "🧹 Always clean and preprocess your data before starting the analysis. This includes handling missing values, outliers, and data inconsistencies.\n",
        "\n",
        "🔍 Use a variety of data exploration techniques to gain insights into the dataset. Visualize the relationships between variables using scatter plots, histograms, and heatmaps.\n",
        "\n",
        "🔎 Conduct a detailed investigation of the dataset to uncover any patterns or correlations between different variables. Use statistical techniques like correlation analysis and hypothesis testing to validate your findings.\n",
        "\n",
        "💡 Form meaningful inferences from your analysis. Use your critical thinking and problem-solving skills to draw conclusions that are relevant and actionable.\n",
        "\n",
        "📊 Communicate your findings effectively using data visualization techniques like charts, graphs, and tables. This will help your audience understand your analysis and recommendations.\n",
        "\n",
        "🚀 Keep practicing and exploring new datasets to continue enhancing your data analysis skills. There's always something new to learn in the world of data!\n"
      ],
      "metadata": {
        "id": "6CFvVCH1SnOH"
      }
    },
    {
      "cell_type": "markdown",
      "source": [
        "**Shortcomings**\n",
        "\n",
        "🤔 Biases and Confounding Variables: EDA can be impacted by biases and confounding variables that are present in the dataset. It's important to be aware of these factors and take them into consideration during the analysis.\n",
        "\n",
        "👀 Limited Scope: EDA may be limited by the scope of the dataset, and may not be able to provide a comprehensive understanding of the problem or research question at hand.\n",
        "\n",
        "🧪 Small Sample Size: EDA conducted on a small sample size may not be representative of the larger population, and can result in inaccurate or biased conclusions.\n",
        "\n",
        "🤷‍♀️ Missing Data: EDA may be impacted by missing data that cannot be accurately imputed or estimated, which can lead to incomplete or inaccurate analysis.\n",
        "\n",
        "📊 Limited Statistical Power: EDA conducted without appropriate statistical techniques or power may result in weak or inconclusive findings.\n",
        "\n",
        "🕵️‍♀️ Limited Causality: EDA is exploratory in nature and cannot establish causality between variables, as it cannot control for all the variables that may impact the relationship between the variables of interest.\n",
        "\n",
        "📉 Limited Predictive Power: EDA may not be able to provide accurate predictions or forecasts of future outcomes, as it focuses on exploring past data.\n",
        "\n",
        "🚫 Data Privacy and Security: EDA can pose privacy and security risks if sensitive or personal information is present in the dataset. It's important to ensure that appropriate measures are taken to protect the data and maintain confidentiality.\n",
        "\n",
        "\n",
        "\n",
        "\n"
      ],
      "metadata": {
        "id": "gHJ3pN1wS2gO"
      }
    }
  ]
}